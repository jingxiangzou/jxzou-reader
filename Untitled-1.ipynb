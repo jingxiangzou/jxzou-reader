{
 "cells": [
  {
   "cell_type": "markdown",
   "metadata": {},
   "source": [
    "## What is in a python library AKA package\n",
    "\n",
    "A single Python file is typically referred to as a script or a module. You can think of a package as a collection of modules."
   ]
  }
 ],
 "metadata": {
  "language_info": {
   "name": "python"
  }
 },
 "nbformat": 4,
 "nbformat_minor": 2
}
